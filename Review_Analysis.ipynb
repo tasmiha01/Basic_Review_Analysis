{
 "cells": [
  {
   "cell_type": "code",
   "execution_count": 1,
   "id": "d09cbd09-d3a4-43d1-95d2-b14f1bcb42a0",
   "metadata": {},
   "outputs": [],
   "source": [
    "import pandas as pd\n",
    "import numpy as np"
   ]
  },
  {
   "cell_type": "code",
   "execution_count": 3,
   "id": "f2e7aa9a-e489-4a24-af16-66f251e17fed",
   "metadata": {},
   "outputs": [],
   "source": [
    "datasets = pd.read_csv(\"Restaurant_Reviews.tsv\", sep = \"\\t\")"
   ]
  },
  {
   "cell_type": "code",
   "execution_count": 4,
   "id": "f1ea8f15-fe6e-40ab-acf6-301dcc9b6e36",
   "metadata": {},
   "outputs": [
    {
     "data": {
      "text/html": [
       "<div>\n",
       "<style scoped>\n",
       "    .dataframe tbody tr th:only-of-type {\n",
       "        vertical-align: middle;\n",
       "    }\n",
       "\n",
       "    .dataframe tbody tr th {\n",
       "        vertical-align: top;\n",
       "    }\n",
       "\n",
       "    .dataframe thead th {\n",
       "        text-align: right;\n",
       "    }\n",
       "</style>\n",
       "<table border=\"1\" class=\"dataframe\">\n",
       "  <thead>\n",
       "    <tr style=\"text-align: right;\">\n",
       "      <th></th>\n",
       "      <th>Review</th>\n",
       "      <th>Liked</th>\n",
       "    </tr>\n",
       "  </thead>\n",
       "  <tbody>\n",
       "    <tr>\n",
       "      <th>0</th>\n",
       "      <td>Wow... Loved this place.</td>\n",
       "      <td>1</td>\n",
       "    </tr>\n",
       "    <tr>\n",
       "      <th>1</th>\n",
       "      <td>Crust is not good.</td>\n",
       "      <td>0</td>\n",
       "    </tr>\n",
       "    <tr>\n",
       "      <th>2</th>\n",
       "      <td>Not tasty and the texture was just nasty.</td>\n",
       "      <td>0</td>\n",
       "    </tr>\n",
       "    <tr>\n",
       "      <th>3</th>\n",
       "      <td>Stopped by during the late May bank holiday of...</td>\n",
       "      <td>1</td>\n",
       "    </tr>\n",
       "    <tr>\n",
       "      <th>4</th>\n",
       "      <td>The selection on the menu was great and so wer...</td>\n",
       "      <td>1</td>\n",
       "    </tr>\n",
       "  </tbody>\n",
       "</table>\n",
       "</div>"
      ],
      "text/plain": [
       "                                              Review  Liked\n",
       "0                           Wow... Loved this place.      1\n",
       "1                                 Crust is not good.      0\n",
       "2          Not tasty and the texture was just nasty.      0\n",
       "3  Stopped by during the late May bank holiday of...      1\n",
       "4  The selection on the menu was great and so wer...      1"
      ]
     },
     "execution_count": 4,
     "metadata": {},
     "output_type": "execute_result"
    }
   ],
   "source": [
    "datasets.head()"
   ]
  },
  {
   "cell_type": "code",
   "execution_count": 5,
   "id": "0ec7c395-8312-4fac-857c-5cdad7122c5d",
   "metadata": {},
   "outputs": [
    {
     "data": {
      "text/html": [
       "<div>\n",
       "<style scoped>\n",
       "    .dataframe tbody tr th:only-of-type {\n",
       "        vertical-align: middle;\n",
       "    }\n",
       "\n",
       "    .dataframe tbody tr th {\n",
       "        vertical-align: top;\n",
       "    }\n",
       "\n",
       "    .dataframe thead th {\n",
       "        text-align: right;\n",
       "    }\n",
       "</style>\n",
       "<table border=\"1\" class=\"dataframe\">\n",
       "  <thead>\n",
       "    <tr style=\"text-align: right;\">\n",
       "      <th></th>\n",
       "      <th>Review</th>\n",
       "      <th>Liked</th>\n",
       "    </tr>\n",
       "  </thead>\n",
       "  <tbody>\n",
       "    <tr>\n",
       "      <th>995</th>\n",
       "      <td>I think food should have flavor and texture an...</td>\n",
       "      <td>0</td>\n",
       "    </tr>\n",
       "    <tr>\n",
       "      <th>996</th>\n",
       "      <td>Appetite instantly gone.</td>\n",
       "      <td>0</td>\n",
       "    </tr>\n",
       "    <tr>\n",
       "      <th>997</th>\n",
       "      <td>Overall I was not impressed and would not go b...</td>\n",
       "      <td>0</td>\n",
       "    </tr>\n",
       "    <tr>\n",
       "      <th>998</th>\n",
       "      <td>The whole experience was underwhelming, and I ...</td>\n",
       "      <td>0</td>\n",
       "    </tr>\n",
       "    <tr>\n",
       "      <th>999</th>\n",
       "      <td>Then, as if I hadn't wasted enough of my life ...</td>\n",
       "      <td>0</td>\n",
       "    </tr>\n",
       "  </tbody>\n",
       "</table>\n",
       "</div>"
      ],
      "text/plain": [
       "                                                Review  Liked\n",
       "995  I think food should have flavor and texture an...      0\n",
       "996                           Appetite instantly gone.      0\n",
       "997  Overall I was not impressed and would not go b...      0\n",
       "998  The whole experience was underwhelming, and I ...      0\n",
       "999  Then, as if I hadn't wasted enough of my life ...      0"
      ]
     },
     "execution_count": 5,
     "metadata": {},
     "output_type": "execute_result"
    }
   ],
   "source": [
    "datasets.tail()"
   ]
  },
  {
   "cell_type": "code",
   "execution_count": 6,
   "id": "bc69f672-c296-485f-ba3c-623778aa399f",
   "metadata": {},
   "outputs": [
    {
     "data": {
      "text/plain": [
       "Index(['Review', 'Liked'], dtype='object')"
      ]
     },
     "execution_count": 6,
     "metadata": {},
     "output_type": "execute_result"
    }
   ],
   "source": [
    "datasets.columns"
   ]
  },
  {
   "cell_type": "code",
   "execution_count": 7,
   "id": "09e139bc-4fbc-46ee-b487-3a7f5a942d3b",
   "metadata": {},
   "outputs": [
    {
     "name": "stdout",
     "output_type": "stream",
     "text": [
      "<class 'pandas.core.frame.DataFrame'>\n",
      "RangeIndex: 1000 entries, 0 to 999\n",
      "Data columns (total 2 columns):\n",
      " #   Column  Non-Null Count  Dtype \n",
      "---  ------  --------------  ----- \n",
      " 0   Review  1000 non-null   object\n",
      " 1   Liked   1000 non-null   int64 \n",
      "dtypes: int64(1), object(1)\n",
      "memory usage: 15.8+ KB\n"
     ]
    }
   ],
   "source": [
    "datasets.info()"
   ]
  },
  {
   "cell_type": "code",
   "execution_count": 6,
   "id": "bf86702b-bed8-4300-aee4-453fa5f1d526",
   "metadata": {},
   "outputs": [],
   "source": [
    "#datasets.dropna()\n",
    "#datasets.isnull()"
   ]
  },
  {
   "cell_type": "code",
   "execution_count": 8,
   "id": "984cb1f9-e0fe-4e33-be00-223f23b1b1df",
   "metadata": {},
   "outputs": [
    {
     "data": {
      "text/html": [
       "<div>\n",
       "<style scoped>\n",
       "    .dataframe tbody tr th:only-of-type {\n",
       "        vertical-align: middle;\n",
       "    }\n",
       "\n",
       "    .dataframe tbody tr th {\n",
       "        vertical-align: top;\n",
       "    }\n",
       "\n",
       "    .dataframe thead th {\n",
       "        text-align: right;\n",
       "    }\n",
       "</style>\n",
       "<table border=\"1\" class=\"dataframe\">\n",
       "  <thead>\n",
       "    <tr style=\"text-align: right;\">\n",
       "      <th></th>\n",
       "      <th>Liked</th>\n",
       "    </tr>\n",
       "  </thead>\n",
       "  <tbody>\n",
       "    <tr>\n",
       "      <th>count</th>\n",
       "      <td>1000.00000</td>\n",
       "    </tr>\n",
       "    <tr>\n",
       "      <th>mean</th>\n",
       "      <td>0.50000</td>\n",
       "    </tr>\n",
       "    <tr>\n",
       "      <th>std</th>\n",
       "      <td>0.50025</td>\n",
       "    </tr>\n",
       "    <tr>\n",
       "      <th>min</th>\n",
       "      <td>0.00000</td>\n",
       "    </tr>\n",
       "    <tr>\n",
       "      <th>25%</th>\n",
       "      <td>0.00000</td>\n",
       "    </tr>\n",
       "    <tr>\n",
       "      <th>50%</th>\n",
       "      <td>0.50000</td>\n",
       "    </tr>\n",
       "    <tr>\n",
       "      <th>75%</th>\n",
       "      <td>1.00000</td>\n",
       "    </tr>\n",
       "    <tr>\n",
       "      <th>max</th>\n",
       "      <td>1.00000</td>\n",
       "    </tr>\n",
       "  </tbody>\n",
       "</table>\n",
       "</div>"
      ],
      "text/plain": [
       "            Liked\n",
       "count  1000.00000\n",
       "mean      0.50000\n",
       "std       0.50025\n",
       "min       0.00000\n",
       "25%       0.00000\n",
       "50%       0.50000\n",
       "75%       1.00000\n",
       "max       1.00000"
      ]
     },
     "execution_count": 8,
     "metadata": {},
     "output_type": "execute_result"
    }
   ],
   "source": [
    "datasets.describe()"
   ]
  },
  {
   "cell_type": "code",
   "execution_count": 9,
   "id": "66ccc39e-8b9f-4a0a-8565-18d533f3d9b4",
   "metadata": {},
   "outputs": [
    {
     "name": "stderr",
     "output_type": "stream",
     "text": [
      "[nltk_data] Downloading package stopwords to\n",
      "[nltk_data]     C:\\Users\\User\\AppData\\Roaming\\nltk_data...\n",
      "[nltk_data]   Package stopwords is already up-to-date!\n"
     ]
    }
   ],
   "source": [
    "import nltk\n",
    "import re # Regular Expression\n",
    "nltk.download(\"stopwords\")\n",
    "from nltk.corpus import stopwords\n",
    "from nltk.stem.porter import PorterStemmer"
   ]
  },
  {
   "cell_type": "code",
   "execution_count": 10,
   "id": "a686f3f0-e7e3-48b0-ab9d-a82b5c0bf08a",
   "metadata": {},
   "outputs": [],
   "source": [
    "corpus = []\n",
    "\n",
    "for i in range(0, 1000):\n",
    "    review = re.sub(pattern='[^a-zA-Z]',repl  = \" \", string = datasets['Review'][i])\n",
    "    \n",
    "    review = review.lower()\n",
    "    \n",
    "    review_words = review.split()\n",
    "    review_words = [word for word in review_words if not word in set(stopwords.words(\"english\"))]\n",
    "    \n",
    "    ps = PorterStemmer()\n",
    "    review = [ps.stem(word) for word in review_words]\n",
    "    \n",
    "    review = ' '.join(review)\n",
    "    \n",
    "    corpus.append(review)"
   ]
  },
  {
   "cell_type": "code",
   "execution_count": 11,
   "id": "77f24ec1-dba2-47cb-9e47-40de0c905a5a",
   "metadata": {},
   "outputs": [
    {
     "data": {
      "text/plain": [
       "['wow love place',\n",
       " 'crust good',\n",
       " 'tasti textur nasti',\n",
       " 'stop late may bank holiday rick steve recommend love',\n",
       " 'select menu great price']"
      ]
     },
     "execution_count": 11,
     "metadata": {},
     "output_type": "execute_result"
    }
   ],
   "source": [
    "corpus[0:5]"
   ]
  },
  {
   "cell_type": "code",
   "execution_count": 12,
   "id": "2853993e-53fe-4656-b04f-bd8d1e9e84bc",
   "metadata": {},
   "outputs": [],
   "source": [
    "from sklearn.feature_extraction.text import CountVectorizer"
   ]
  },
  {
   "cell_type": "code",
   "execution_count": 13,
   "id": "77c5491c-7eb7-4985-bcb7-d36cdfd9c1f3",
   "metadata": {},
   "outputs": [],
   "source": [
    "count_vec = CountVectorizer(max_features=1500)"
   ]
  },
  {
   "cell_type": "code",
   "execution_count": 14,
   "id": "41ba7bbc-3981-4798-87ed-90e61853fc58",
   "metadata": {},
   "outputs": [],
   "source": [
    "X = count_vec.fit_transform(corpus).toarray()\n",
    "y = datasets.iloc[:, 1].values"
   ]
  },
  {
   "cell_type": "code",
   "execution_count": 15,
   "id": "619c283b-2f0a-4b0d-9545-6d5683a8c89f",
   "metadata": {},
   "outputs": [],
   "source": [
    "from sklearn.model_selection import train_test_split"
   ]
  },
  {
   "cell_type": "code",
   "execution_count": 16,
   "id": "c2fca05f-cc12-46e7-b54d-b0b0e11367f4",
   "metadata": {},
   "outputs": [],
   "source": [
    "X_train, X_test, y_train, y_test = train_test_split(X, y, test_size=0.2, random_state=0)"
   ]
  },
  {
   "cell_type": "code",
   "execution_count": 17,
   "id": "0084cca3-7049-4841-9022-bceaf9457892",
   "metadata": {},
   "outputs": [
    {
     "data": {
      "text/plain": [
       "MultinomialNB()"
      ]
     },
     "execution_count": 17,
     "metadata": {},
     "output_type": "execute_result"
    }
   ],
   "source": [
    "from sklearn.naive_bayes import MultinomialNB\n",
    "nb = MultinomialNB()\n",
    "nb.fit(X_train, y_train)"
   ]
  },
  {
   "cell_type": "code",
   "execution_count": 18,
   "id": "44305a49-74ff-4488-9e50-5667a023bc9e",
   "metadata": {},
   "outputs": [],
   "source": [
    "ypredict = nb.predict(X_test)"
   ]
  },
  {
   "cell_type": "code",
   "execution_count": 19,
   "id": "ed0bed8b-594d-441e-8b07-2d1fdac88b4c",
   "metadata": {},
   "outputs": [],
   "source": [
    "from sklearn.metrics import accuracy_score, precision_score, recall_score"
   ]
  },
  {
   "cell_type": "code",
   "execution_count": 20,
   "id": "86a32144-7114-403f-8000-4bc6ddf89b94",
   "metadata": {},
   "outputs": [
    {
     "name": "stdout",
     "output_type": "stream",
     "text": [
      "0.765\n"
     ]
    }
   ],
   "source": [
    "print(accuracy_score(y_test, ypredict))"
   ]
  },
  {
   "cell_type": "code",
   "execution_count": 21,
   "id": "710c66b7-5224-4180-817e-5c5337f0736b",
   "metadata": {},
   "outputs": [
    {
     "name": "stdout",
     "output_type": "stream",
     "text": [
      "0.7641509433962265\n"
     ]
    }
   ],
   "source": [
    "print(precision_score(y_test, ypredict))"
   ]
  },
  {
   "cell_type": "code",
   "execution_count": 22,
   "id": "877db20f-1077-4700-a752-2b010ec00fbd",
   "metadata": {},
   "outputs": [
    {
     "name": "stdout",
     "output_type": "stream",
     "text": [
      "0.7864077669902912\n"
     ]
    }
   ],
   "source": [
    "print(recall_score(y_test, ypredict))"
   ]
  },
  {
   "cell_type": "code",
   "execution_count": 23,
   "id": "7de24a11-194b-4660-bfa1-9ee6b2038e90",
   "metadata": {},
   "outputs": [
    {
     "name": "stdout",
     "output_type": "stream",
     "text": [
      "0.764\n"
     ]
    }
   ],
   "source": [
    "print(round(precision_score(y_test, ypredict), 3))"
   ]
  },
  {
   "cell_type": "code",
   "execution_count": 24,
   "id": "308f1aef-49a2-4fcb-ad92-ed671aa76aa4",
   "metadata": {},
   "outputs": [],
   "source": [
    "from sklearn.metrics import confusion_matrix"
   ]
  },
  {
   "cell_type": "code",
   "execution_count": 25,
   "id": "dff5d803-fb29-476e-b0a5-e40e49a3277b",
   "metadata": {},
   "outputs": [],
   "source": [
    "confusion_metric = confusion_matrix(y_test,ypredict)"
   ]
  },
  {
   "cell_type": "code",
   "execution_count": 26,
   "id": "778e676b-d159-4e79-86a3-f92f9650ab84",
   "metadata": {},
   "outputs": [
    {
     "data": {
      "text/plain": [
       "array([[72, 25],\n",
       "       [22, 81]], dtype=int64)"
      ]
     },
     "execution_count": 26,
     "metadata": {},
     "output_type": "execute_result"
    }
   ],
   "source": [
    "confusion_metric"
   ]
  },
  {
   "cell_type": "code",
   "execution_count": 27,
   "id": "a709ee60-a4a9-414f-9a27-31c0a8e76b72",
   "metadata": {},
   "outputs": [],
   "source": [
    "import matplotlib.pyplot as plt\n",
    "import seaborn as sns\n",
    "%matplotlib inline"
   ]
  },
  {
   "cell_type": "code",
   "execution_count": 28,
   "id": "ded5df5f-116b-4734-82fb-f6a8f3f66bcc",
   "metadata": {},
   "outputs": [
    {
     "data": {
      "image/png": "[encoded data removed]",
      "text/plain": [
       "<Figure size 720x432 with 2 Axes>"
      ]
     },
     "metadata": {
      "needs_background": "light"
     },
     "output_type": "display_data"
    }
   ],
   "source": [
    "plt.figure(figsize=(10, 6))\n",
    "sns.heatmap(confusion_metric, annot = True, cmap = \"YlGnBu\",\n",
    "           xticklabels=[\"Neg\", \"Pos\"],\n",
    "           yticklabels=[\"Neg\", \"Pos\"])\n",
    "\n",
    "plt.xlabel(\"Predict Value\")\n",
    "plt.ylabel(\"Actual Value\")\n",
    "plt.show()"
   ]
  },
  {
   "cell_type": "code",
   "execution_count": 29,
   "id": "4be98431-df24-4480-9b08-33a28ec255a6",
   "metadata": {},
   "outputs": [
    {
     "name": "stdout",
     "output_type": "stream",
     "text": [
      "0.1 78.0\n",
      "0.2 78.5\n",
      "0.3 78.0\n",
      "0.4 78.0\n",
      "0.5 77.5\n",
      "0.6 77.5\n",
      "0.7 77.5\n",
      "0.8 77.0\n",
      "0.9 76.5\n",
      "1.0 76.5\n",
      "\n",
      "78.5 0.2\n"
     ]
    }
   ],
   "source": [
    "accuracy = 0.0\n",
    "alpha_value = 0.0\n",
    "\n",
    "for i in np.arange(0.1, 1.1, 0.1):\n",
    "    temp_class = MultinomialNB(alpha=i)\n",
    "    temp_class.fit(X_train, y_train)\n",
    "    temp_ypredict = temp_class.predict(X_test)\n",
    "    score = accuracy_score(y_test, temp_ypredict)\n",
    "    print(round(i, 1), round(score*100, 2))\n",
    "    \n",
    "    if score > accuracy:\n",
    "        accuracy = score\n",
    "        alpha_value = i\n",
    "        \n",
    "print()\n",
    "print(round(accuracy*100, 2), round(alpha_value, 1))"
   ]
  },
  {
   "cell_type": "code",
   "execution_count": 30,
   "id": "56ce19cc-0b7e-4c9c-b1ab-a8b8616f57f9",
   "metadata": {},
   "outputs": [
    {
     "data": {
      "text/plain": [
       "MultinomialNB(alpha=0.2)"
      ]
     },
     "execution_count": 30,
     "metadata": {},
     "output_type": "execute_result"
    }
   ],
   "source": [
    "nb_class = MultinomialNB(alpha=0.2)\n",
    "nb_class.fit(X_train, y_train)"
   ]
  },
  {
   "cell_type": "code",
   "execution_count": 31,
   "id": "721d02a8-e3ca-4e7c-85f5-f8b2b22d57a2",
   "metadata": {},
   "outputs": [],
   "source": [
    "def predict_rev(sample_review):\n",
    "    sample_review = re.sub(pattern='[^a-zA-Z]',repl  = \" \", string = sample_review)\n",
    "    \n",
    "    sample_review = sample_review.lower()\n",
    "    \n",
    "    review_words = sample_review.split()\n",
    "    review_words = [word for word in review_words if not word in set(stopwords.words(\"english\"))]\n",
    "    \n",
    "    ps = PorterStemmer()\n",
    "    review = [ps.stem(word) for word in review_words]\n",
    "    \n",
    "    review = ' '.join(review)\n",
    "    \n",
    "    temp = count_vec.transform([review]).toarray()\n",
    "    \n",
    "    return nb_class.predict(temp)"
   ]
  },
  {
   "cell_type": "code",
   "execution_count": 36,
   "id": "4570aaf4-f7d7-4a1a-81c4-623825a51101",
   "metadata": {},
   "outputs": [
    {
     "name": "stdout",
     "output_type": "stream",
     "text": [
      "Pos review\n"
     ]
    }
   ],
   "source": [
    "sample_text = \"The food is really good\"\n",
    "\n",
    "if predict_rev(sample_text):\n",
    "    print(\"Pos review\")\n",
    "else:\n",
    "    print(\"Neg review\")"
   ]
  },
  {
   "cell_type": "code",
   "execution_count": 37,
   "id": "f623727b-fcd9-4c26-a90f-86a12459b350",
   "metadata": {},
   "outputs": [
    {
     "name": "stdout",
     "output_type": "stream",
     "text": [
      "Neg review\n"
     ]
    }
   ],
   "source": [
    "sample_text = \"The food is really bad\"\n",
    "\n",
    "if predict_rev(sample_text):\n",
    "    print(\"Pos review\")\n",
    "else:\n",
    "    print(\"Neg review\")"
   ]
  },
  {
   "cell_type": "code",
   "execution_count": null,
   "id": "4b1b4ea3-88ca-4041-a750-b6a5e7bdcb4b",
   "metadata": {},
   "outputs": [],
   "source": []
  }
 ],
 "metadata": {
  "kernelspec": {
   "display_name": "Python 3",
   "language": "python",
   "name": "python3"
  },
  "language_info": {
   "codemirror_mode": {
    "name": "ipython",
    "version": 3
   },
   "file_extension": ".py",
   "mimetype": "text/x-python",
   "name": "python",
   "nbconvert_exporter": "python",
   "pygments_lexer": "ipython3",
   "version": "3.9.2"
  }
 },
 "nbformat": 4,
 "nbformat_minor": 5
}
